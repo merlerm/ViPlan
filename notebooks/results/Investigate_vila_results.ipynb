{
 "cells": [
  {
   "cell_type": "code",
   "execution_count": 1,
   "metadata": {},
   "outputs": [
    {
     "name": "stdout",
     "output_type": "stream",
     "text": [
      "ROOT /scratch/cs/world-models/merlerm1/open-world-symbolic-planner\n"
     ]
    }
   ],
   "source": [
    "import os\n",
    "import sys\n",
    "import json\n",
    "\n",
    "ROOT = os.path.dirname(os.path.dirname(os.path.abspath('.')))\n",
    "print(\"ROOT\", ROOT)"
   ]
  },
  {
   "cell_type": "code",
   "execution_count": 2,
   "metadata": {},
   "outputs": [],
   "source": [
    "sys.path.append(ROOT)"
   ]
  },
  {
   "cell_type": "code",
   "execution_count": 3,
   "metadata": {},
   "outputs": [],
   "source": [
    "DOMAIN_PATH = os.path.join(ROOT, 'data', 'planning', 'blocksworld', 'domain.pddl')"
   ]
  },
  {
   "cell_type": "code",
   "execution_count": 96,
   "metadata": {},
   "outputs": [
    {
     "name": "stdout",
     "output_type": "stream",
     "text": [
      "Model: Qwen/Qwen2.5-VL-72B-Instruct\n",
      "Total problems: 10\n"
     ]
    }
   ],
   "source": [
    "RESULTS_PATH = os.path.join(ROOT, 'results', 'planning', 'vila', 'blocksworld', 'simple')\n",
    "results_file = os.path.join(RESULTS_PATH, 'results_6799611.json') # Qwen2.5-VL 72B w/ CoT\n",
    "# results_file = os.path.join(RESULTS_PATH, 'results_6803283.json') # Gemma3 27B w/ CoT\n",
    "\n",
    "with open(results_file, 'r') as f:\n",
    "    results = json.load(f)\n",
    "    \n",
    "print(\"Model:\", results['model'])\n",
    "problem_keys = [ key for key in results.keys() if 'problem' in key ]\n",
    "print(\"Total problems:\", len(problem_keys))"
   ]
  },
  {
   "cell_type": "code",
   "execution_count": 97,
   "metadata": {},
   "outputs": [
    {
     "name": "stdout",
     "output_type": "stream",
     "text": [
      "Precomputed stats:\n",
      "Action success rate: 0.37\n",
      "Action failure rate: 0.63\n",
      "Task completion rate: 0.50\n"
     ]
    }
   ],
   "source": [
    "print(\"Precomputed stats:\")\n",
    "print(f\"Action success rate: {results['statistics']['action_success_rate']:.2f}\")\n",
    "print(f\"Action failure rate: {results['statistics']['action_failure_rate']:.2f}\")\n",
    "print(f\"Task completion rate: {results['statistics']['task_completion_rate']:.2f}\")"
   ]
  },
  {
   "cell_type": "code",
   "execution_count": 98,
   "metadata": {},
   "outputs": [
    {
     "name": "stdout",
     "output_type": "stream",
     "text": [
      "Problem simple_problem_8:\n",
      "Completed: True\n",
      "Number of actions taken: 8\n",
      "Reference plan length: 4\n",
      "Failed actions: 3\n",
      "\n",
      "Problem simple_problem_5:\n",
      "Completed: False\n",
      "Number of actions taken: 50\n",
      "Reference plan length: 3\n",
      "Failed actions: 47\n",
      "\n",
      "Problem simple_problem_1:\n",
      "Completed: False\n",
      "Number of actions taken: 50\n",
      "Reference plan length: 5\n",
      "Failed actions: 9\n",
      "\n",
      "Problem simple_problem_4:\n",
      "Completed: True\n",
      "Number of actions taken: 5\n",
      "Reference plan length: 4\n",
      "Failed actions: 1\n",
      "\n",
      "Problem simple_problem_3:\n",
      "Completed: False\n",
      "Number of actions taken: 50\n",
      "Reference plan length: 4\n",
      "Failed actions: 44\n",
      "\n",
      "Problem simple_problem_9:\n",
      "Completed: False\n",
      "Number of actions taken: 50\n",
      "Reference plan length: 3\n",
      "Failed actions: 33\n",
      "\n",
      "Problem simple_problem_7:\n",
      "Completed: True\n",
      "Number of actions taken: 16\n",
      "Reference plan length: 4\n",
      "Failed actions: 7\n",
      "\n",
      "Problem simple_problem_0:\n",
      "Completed: True\n",
      "Number of actions taken: 7\n",
      "Reference plan length: 3\n",
      "Failed actions: 2\n",
      "\n",
      "Problem simple_problem_2:\n",
      "Completed: False\n",
      "Number of actions taken: 50\n",
      "Reference plan length: 5\n",
      "Failed actions: 11\n",
      "\n",
      "Problem simple_problem_6:\n",
      "Completed: True\n",
      "Number of actions taken: 5\n",
      "Reference plan length: 4\n",
      "Failed actions: 1\n",
      "\n"
     ]
    }
   ],
   "source": [
    "for problem in problem_keys:\n",
    "    \n",
    "    problem_metadata_path = \"/\".join(problem.split('/')[:-1] + ['metadata.json'])\n",
    "    metadata_file = os.path.join(ROOT, problem_metadata_path)\n",
    "    with open(metadata_file, 'r') as f:\n",
    "        metadata = json.load(f)\n",
    "    problem_name = problem.split('/')[-1].split('.')[0]\n",
    "    problem_metadata = metadata[problem_name]\n",
    "    \n",
    "    problem_results = results[problem]\n",
    "    print(f\"Problem {problem_name}:\")\n",
    "    print(f\"Completed: {problem_results['completed']}\")\n",
    "    print(f\"Number of actions taken: {len(problem_results['plans'])}\")\n",
    "    \n",
    "    reference_plan = problem_metadata['reference_plan']\n",
    "    print(f\"Reference plan length: {len(reference_plan)}\")\n",
    "    extra_actions = len(problem_results['plans']) - len(reference_plan)\n",
    "    \n",
    "    problem_results['extra_actions'] = extra_actions\n",
    "    failed_actions = [action for action in problem_results['actions'] if action['success'] == False]\n",
    "    print(f\"Failed actions: {len(failed_actions)}\")\n",
    "    problem_results['failed_actions'] = len(failed_actions)\n",
    "    print()"
   ]
  },
  {
   "cell_type": "code",
   "execution_count": 77,
   "metadata": {},
   "outputs": [
    {
     "name": "stdout",
     "output_type": "stream",
     "text": [
      "Total completed problems: 7\n",
      "Average extra actions: 19.14\n",
      "Average failed actions: 13.14\n",
      "Average plan length: 23.00\n"
     ]
    }
   ],
   "source": [
    "completed_problems = [problem for problem in problem_keys if results[problem]['completed']]\n",
    "print(f\"Total completed problems: {len(completed_problems)}\")\n",
    "avg_extra_actions = sum([results[problem]['extra_actions'] for problem in completed_problems]) / len(completed_problems)\n",
    "print(f\"Average extra actions: {avg_extra_actions:.2f}\")\n",
    "avg_failed_actions = sum([results[problem]['failed_actions'] for problem in completed_problems]) / len(completed_problems)\n",
    "print(f\"Average failed actions: {avg_failed_actions:.2f}\")\n",
    "avg_plan_length = sum([len(results[problem]['plans']) for problem in completed_problems]) / len(completed_problems)\n",
    "print(f\"Average plan length: {avg_plan_length:.2f}\")"
   ]
  },
  {
   "cell_type": "code",
   "execution_count": 8,
   "metadata": {},
   "outputs": [],
   "source": [
    "from viplan.code_helpers import get_logger\n",
    "from viplan.planning.blocksworld_simulator import BlocksworldSimulator\n",
    "from unified_planning.io import PDDLReader\n",
    "\n",
    "import random"
   ]
  },
  {
   "cell_type": "code",
   "execution_count": 14,
   "metadata": {},
   "outputs": [],
   "source": [
    "def get_env(domain, problem):\n",
    "    reader = PDDLReader()\n",
    "    problem = reader.parse_problem(domain, problem)\n",
    "    logger = get_logger(log_level='error')\n",
    "    env = BlocksworldSimulator(problem, root_path=ROOT, logger=logger, seed=1, use_gpu_rendering=False)\n",
    "    return env"
   ]
  },
  {
   "cell_type": "code",
   "execution_count": null,
   "metadata": {},
   "outputs": [],
   "source": [
    "def random_policy(domain, problem, max_steps=50, seed=None):\n",
    "    \"\"\"\n",
    "    A random policy that takes random actions until the problem is solved or max_steps is reached.\n",
    "    \"\"\"\n",
    "    env = get_env(domain, problem)\n",
    "    \n",
    "    fail_counter = 0\n",
    "    steps = 0\n",
    "    \n",
    "    random.seed(seed)\n",
    "    \n",
    "    while not env.goal_reached and steps < max_steps:\n",
    "        steps += 1\n",
    "        blocks = env.all_objects['block']\n",
    "        columns = env.all_objects['column']\n",
    "\n",
    "        b = str(random.choice(blocks))\n",
    "        c = str(random.choice(columns))\n",
    "        action = env._get_specific_action(b, c)\n",
    "        success = env.apply_action(action)\n",
    "        \n",
    "        if not success:\n",
    "            fail_counter += 1\n",
    "\n",
    "    if env.goal_reached:\n",
    "        return True, steps, fail_counter\n",
    "    return False, steps, fail_counter"
   ]
  },
  {
   "cell_type": "code",
   "execution_count": 10,
   "metadata": {},
   "outputs": [
    {
     "name": "stdout",
     "output_type": "stream",
     "text": [
      "Average steps taken: 47.60\n",
      "Success count: 125\n",
      "Average steps for successful runs: 30.82\n",
      "Percent of Success: 12.50%\n",
      "Percent of Failed Actions: 49.64%\n"
     ]
    }
   ],
   "source": [
    "test_problem_path = os.path.join(ROOT, problem_keys[0])\n",
    "\n",
    "# Run random policy 10 times and print the results\n",
    "\n",
    "runs = 1000\n",
    "success_count = 0\n",
    "total_steps = 0\n",
    "total_success_steps = 0\n",
    "total_failed_actions = 0\n",
    "\n",
    "for i in range(runs):\n",
    "    success, steps, fail_counter = random_policy(DOMAIN_PATH, test_problem_path, max_steps=50, seed=i)\n",
    "    success_count += int(success)\n",
    "    total_steps += steps\n",
    "    if success:\n",
    "        total_success_steps += steps\n",
    "    total_failed_actions += fail_counter\n",
    "\n",
    "avg_steps = total_steps / runs\n",
    "percent_success = (success_count / runs) * 100\n",
    "percent_failed_actions = (total_failed_actions / total_steps) * 100 if total_steps > 0 else 0\n",
    "\n",
    "print(f\"Average steps taken: {avg_steps:.2f}\")\n",
    "print(f\"Success count: {success_count}\")\n",
    "print(f\"Average steps for successful runs: {total_success_steps / success_count:.2f}\" if success_count > 0 else \"No successful runs\")\n",
    "print(f\"Percent of Success: {percent_success:.2f}%\")\n",
    "print(f\"Percent of Failed Actions: {percent_failed_actions:.2f}%\")"
   ]
  },
  {
   "cell_type": "code",
   "execution_count": 11,
   "metadata": {},
   "outputs": [],
   "source": [
    "def update_problem(state, problem):\n",
    "    \n",
    "    def get_new_problem_fluent(new_problem, fluent):\n",
    "        for new_fluent in new_problem.initial_values:\n",
    "            if str(new_fluent) == str(fluent):\n",
    "                return new_fluent\n",
    "        return None\n",
    "       \n",
    "    new_problem = copy.deepcopy(problem)\n",
    "    \n",
    "    for fluent in problem.initial_values:\n",
    "        \n",
    "        name = fluent.fluent().name\n",
    "        args = fluent.args\n",
    "        args_str = \",\".join([str(arg) for arg in args])\n",
    "        value = problem.initial_values[fluent].is_true()\n",
    "        state_value = state[name][args_str]\n",
    "        if value != state_value:\n",
    "            assert problem.initial_values[fluent].is_bool_constant()\n",
    "            new_fluent = get_new_problem_fluent(new_problem, fluent)\n",
    "            if new_fluent is None:\n",
    "                raise ValueError(f\"Fluent {fluent} not found in new_problem\")\n",
    "            \n",
    "            new_problem.initial_values[new_fluent] = problem.initial_values[fluent].__invert__().simplify()\n",
    "            \n",
    "    return new_problem"
   ]
  },
  {
   "cell_type": "code",
   "execution_count": null,
   "metadata": {},
   "outputs": [],
   "source": [
    "import copy\n",
    "from unified_planning.shortcuts import *\n",
    "\n",
    "def calculate_goal_distance(env, problem_results):\n",
    "    \"\"\"\n",
    "    Calculate the distance to the goal state.\n",
    "    \"\"\"\n",
    "    \n",
    "    unified_planning.shortcuts.get_environment().credits_stream = None # Disable planner printouts\n",
    "\n",
    "    def get_problem_plan(problem):\n",
    "        with OneshotPlanner(problem_kind=problem.kind) as planner:\n",
    "            result = planner.solve(problem)\n",
    "            return result.plan if result.status == up.engines.PlanGenerationResultStatus.SOLVED_SATISFICING else None\n",
    "        \n",
    "    gt_plans = []\n",
    "    successes = []\n",
    "    \n",
    "    initial_plan = get_problem_plan(env.problem)\n",
    "    gt_plans.append(initial_plan)\n",
    "    env.reset()\n",
    "    \n",
    "    for i, action in enumerate(problem_results['actions']):\n",
    "        # print(action)\n",
    "        # print(env)\n",
    "        action = action['action']\n",
    "        action_name = action.split('(')[0]\n",
    "        action_args = action.split('(')[1].split(')')[0].split(',')\n",
    "        action_args = [arg.strip() for arg in action_args]\n",
    "        block = action_args[0]\n",
    "        column = action_args[1]\n",
    "        action = env._get_specific_action(block, column)\n",
    "        success = env.apply_action(action)\n",
    "        successes.append(success)\n",
    "        \n",
    "        if success:\n",
    "            new_problem = update_problem(env.state, env.problem)\n",
    "            new_plan = get_problem_plan(new_problem)\n",
    "            gt_plans.append(new_plan)\n",
    "        else:\n",
    "            # print(\"Action failed\")\n",
    "            gt_plans.append(gt_plans[-1])\n",
    "            \n",
    "        # print(f\"Action: {action_name}({block}, {column})\")\n",
    "        # print(f\"Success: {success}\")\n",
    "        # print(f\"Plan distance: {len(gt_plans[-1].actions)}\")\n",
    "        # print()\n",
    "\n",
    "    # print(len(gt_plans), len(problem_results['plans']), len(problem_results['actions']))\n",
    "    # assert len(gt_plans) == len(problem_results['plans'])\n",
    "    distances = [len(plan.actions) for plan in gt_plans]\n",
    "    # print(\"Distances:\", distances)\n",
    "    \n",
    "    return distances, successes"
   ]
  },
  {
   "cell_type": "code",
   "execution_count": 85,
   "metadata": {},
   "outputs": [
    {
     "name": "stdout",
     "output_type": "stream",
     "text": [
      "Action: moveblock(r, c3)\n",
      "Success: True\n",
      "Plan distance: 4\n",
      "\n",
      "Action: moveblock(y, c2)\n",
      "Success: False\n",
      "Plan distance: 4\n",
      "\n",
      "Action: moveblock(g, c4)\n",
      "Success: False\n",
      "Plan distance: 4\n",
      "\n",
      "Action: moveblock(g, c4)\n",
      "Success: False\n",
      "Plan distance: 4\n",
      "\n",
      "Action: moveblock(r, c1)\n",
      "Success: True\n",
      "Plan distance: 3\n",
      "\n",
      "Action: moveblock(g, c4)\n",
      "Success: True\n",
      "Plan distance: 2\n",
      "\n",
      "Action: moveblock(y, c2)\n",
      "Success: True\n",
      "Plan distance: 1\n",
      "\n",
      "Action: moveblock(r, c3)\n",
      "Success: True\n",
      "Plan distance: 0\n",
      "\n",
      "[(4, True), (4, False), (4, False), (4, False), (4, True), (3, True), (2, True), (1, True)]\n"
     ]
    }
   ],
   "source": [
    "env = get_env(DOMAIN_PATH, test_problem_path)\n",
    "test_problem_path = os.path.join(ROOT, problem_keys[0])\n",
    "test_problem_results = results[problem_keys[0]]\n",
    "\n",
    "distances, successes = calculate_goal_distance(env, test_problem_results)\n",
    "print(list(zip(distances, successes)))"
   ]
  },
  {
   "cell_type": "code",
   "execution_count": 100,
   "metadata": {},
   "outputs": [
    {
     "name": "stdout",
     "output_type": "stream",
     "text": [
      "Problem 1/10: data/planning/blocksworld/problems/simple/simple_problem_8.pddl\n",
      "8 8 7\n",
      "Problem 2/10: data/planning/blocksworld/problems/simple/simple_problem_5.pddl\n",
      "51 50 50\n",
      "Problem 3/10: data/planning/blocksworld/problems/simple/simple_problem_1.pddl\n",
      "51 50 50\n",
      "Problem 4/10: data/planning/blocksworld/problems/simple/simple_problem_4.pddl\n",
      "6 5 5\n",
      "Problem 5/10: data/planning/blocksworld/problems/simple/simple_problem_3.pddl\n",
      "51 50 50\n",
      "Problem 6/10: data/planning/blocksworld/problems/simple/simple_problem_9.pddl\n",
      "50 50 49\n",
      "Problem 7/10: data/planning/blocksworld/problems/simple/simple_problem_7.pddl\n",
      "17 16 16\n",
      "Problem 8/10: data/planning/blocksworld/problems/simple/simple_problem_0.pddl\n",
      "7 7 6\n",
      "Problem 9/10: data/planning/blocksworld/problems/simple/simple_problem_2.pddl\n",
      "12 50 11\n",
      "Problem 10/10: data/planning/blocksworld/problems/simple/simple_problem_6.pddl\n",
      "6 5 5\n"
     ]
    },
    {
     "data": {
      "image/png": "[encoded data removed]",
      "text/plain": [
       "<Figure size 1500x600 with 10 Axes>"
      ]
     },
     "metadata": {},
     "output_type": "display_data"
    }
   ],
   "source": [
    "import math\n",
    "import matplotlib.pyplot as plt\n",
    "\n",
    "# Determine grid size\n",
    "n_problems = len(problem_keys)\n",
    "ncols = 5\n",
    "nrows = math.ceil(n_problems / ncols)\n",
    "\n",
    "fig, axes = plt.subplots(nrows, ncols, figsize=(15, 3 * nrows), squeeze=False)\n",
    "\n",
    "# First pass: plot each problem and record the max y value\n",
    "max_y_values = []\n",
    "for idx, prob in enumerate(problem_keys):\n",
    "    print(f\"Problem {idx + 1}/{n_problems}: {prob}\")\n",
    "    prob_full_path = os.path.join(ROOT, prob)\n",
    "    prob_results = results[prob]\n",
    "    \n",
    "    # Create environment and calculate goal distances \n",
    "    env_current = get_env(DOMAIN_PATH, prob_full_path)\n",
    "    distances, _ = calculate_goal_distance(env_current, prob_results)\n",
    "    \n",
    "    local_max = max(distances) if distances else 0\n",
    "    max_y_values.append(local_max)\n",
    "    \n",
    "    row = idx // ncols\n",
    "    col = idx % ncols\n",
    "    ax = axes[row, col]\n",
    "    ax.plot(range(len(distances)), distances, marker='o')\n",
    "    problem_name = prob.split('/')[-1].split('.')[0]\n",
    "    ax.set_title(problem_name)\n",
    "    ax.set_xlabel('Action Index')\n",
    "    ax.set_ylabel('Plan Distance')\n",
    "    ax.set_ylim(bottom=0)  # Set lower bound to 0\n",
    "\n",
    "# Determine the global maximum y value across all subplots\n",
    "global_max_y = max(max_y_values) if max_y_values else 0\n",
    "\n",
    "# Second pass: update all subplots to have the same y-axis max\n",
    "for idx in range(n_problems):\n",
    "    row = idx // ncols\n",
    "    col = idx % ncols\n",
    "    axes[row, col].set_ylim(top=global_max_y)\n",
    "\n",
    "# Hide empty subplots if any\n",
    "for j in range(n_problems, nrows * ncols):\n",
    "    row = j // ncols\n",
    "    col = j % ncols\n",
    "    axes[row, col].axis('off')\n",
    "\n",
    "plt.tight_layout()\n",
    "plt.show()"
   ]
  }
 ],
 "metadata": {
  "kernelspec": {
   "display_name": "Python 3 (ipykernel)",
   "language": "python",
   "name": "python3"
  },
  "language_info": {
   "codemirror_mode": {
    "name": "ipython",
    "version": 3
   },
   "file_extension": ".py",
   "mimetype": "text/x-python",
   "name": "python",
   "nbconvert_exporter": "python",
   "pygments_lexer": "ipython3",
   "version": "3.8.13"
  }
 },
 "nbformat": 4,
 "nbformat_minor": 4
}
